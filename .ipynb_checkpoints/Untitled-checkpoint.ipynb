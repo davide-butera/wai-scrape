{
 "cells": [
  {
   "cell_type": "code",
   "execution_count": 1,
   "metadata": {},
   "outputs": [],
   "source": [
    "import asyncio\n",
    "import aiohttp\n",
    "import requests\n",
    "from bs4 import BeautifulSoup"
   ]
  },
  {
   "cell_type": "code",
   "execution_count": 2,
   "metadata": {},
   "outputs": [],
   "source": [
    "WORD_LIST_BASE_URL = 'https://kotobank.jp/dictionary/ji02/'\n",
    "BASE_SEARCH_URL = 'https://kotobank.jp'\n",
    "\n",
    "def get_word_link_list(WORD_LIST_BASE_URL, n):\n",
    "    url = WORD_LIST_BASE_URL + f\"{n}\"+ \"/\"\n",
    "    word_list = requests.get(url)\n",
    "    soup = BeautifulSoup(word_list.content, 'html.parser')\n",
    "    word_list = []\n",
    "    link_list = []\n",
    "    session = requests.Session()\n",
    "    for ultag in soup.find_all('ul', class_=\"grid02 cf\"):\n",
    "        for litag in ultag.find_all('li'):\n",
    "            word = litag.text\n",
    "            link = litag.find('a', href=True)['href']\n",
    "            word_list.append(word)\n",
    "            link_list.append(BASE_SEARCH_URL + link)\n",
    "    print(len(word_list) == len(link_list))\n",
    "    return word_list, link_list"
   ]
  },
  {
   "cell_type": "code",
   "execution_count": 11,
   "metadata": {},
   "outputs": [
    {
     "name": "stdout",
     "output_type": "stream",
     "text": [
      "True\n",
      "chunk #1 written\n",
      "True\n",
      "chunk #2 written\n",
      "True\n",
      "chunk #3 written\n",
      "True\n",
      "chunk #4 written\n",
      "True\n",
      "chunk #5 written\n",
      "True\n",
      "chunk #6 written\n",
      "True\n",
      "chunk #7 written\n",
      "True\n",
      "chunk #8 written\n",
      "True\n",
      "chunk #9 written\n",
      "True\n",
      "chunk #10 written\n",
      "True\n",
      "chunk #11 written\n",
      "True\n",
      "chunk #12 written\n",
      "True\n",
      "chunk #13 written\n",
      "True\n",
      "chunk #14 written\n",
      "True\n",
      "chunk #15 written\n",
      "True\n",
      "chunk #16 written\n",
      "True\n",
      "chunk #17 written\n",
      "True\n",
      "chunk #18 written\n",
      "True\n",
      "chunk #19 written\n",
      "True\n",
      "chunk #20 written\n",
      "True\n",
      "chunk #21 written\n",
      "True\n",
      "chunk #22 written\n",
      "True\n",
      "chunk #23 written\n",
      "True\n",
      "chunk #24 written\n",
      "True\n",
      "chunk #25 written\n",
      "True\n",
      "chunk #26 written\n",
      "True\n",
      "chunk #27 written\n",
      "True\n"
     ]
    },
    {
     "ename": "CancelledError",
     "evalue": "",
     "output_type": "error",
     "traceback": [
      "\u001b[1;31m---------------------------------------------------------------------------\u001b[0m",
      "\u001b[1;31mCancelledError\u001b[0m                            Traceback (most recent call last)",
      "\u001b[1;32m<ipython-input-11-15b1f4d52030>\u001b[0m in \u001b[0;36masync-def-wrapper\u001b[1;34m()\u001b[0m\n\u001b[0;32m     31\u001b[0m     \u001b[0mwrite_def_list\u001b[0m\u001b[1;33m(\u001b[0m\u001b[0mdef_list\u001b[0m\u001b[1;33m)\u001b[0m\u001b[1;33m\u001b[0m\u001b[1;33m\u001b[0m\u001b[0m\n\u001b[0;32m     32\u001b[0m     \u001b[0mprint\u001b[0m\u001b[1;33m(\u001b[0m\u001b[1;34mf\"chunk #{i} written\"\u001b[0m\u001b[1;33m)\u001b[0m\u001b[1;33m\u001b[0m\u001b[1;33m\u001b[0m\u001b[0m\n",
      "\u001b[1;32m<ipython-input-11-15b1f4d52030>\u001b[0m in \u001b[0;36mbuild_def_list\u001b[1;34m(word_list, link_list)\u001b[0m\n\u001b[0;32m     16\u001b[0m         \u001b[1;32mfor\u001b[0m \u001b[0mpage\u001b[0m \u001b[1;32min\u001b[0m \u001b[0mhtml_list\u001b[0m\u001b[1;33m:\u001b[0m\u001b[1;33m\u001b[0m\u001b[1;33m\u001b[0m\u001b[0m\n\u001b[0;32m     17\u001b[0m             \u001b[0mdef_list\u001b[0m\u001b[1;33m.\u001b[0m\u001b[0mappend\u001b[0m\u001b[1;33m(\u001b[0m\u001b[0mextract_definition\u001b[0m\u001b[1;33m(\u001b[0m\u001b[0mpage\u001b[0m\u001b[1;33m)\u001b[0m\u001b[1;33m)\u001b[0m\u001b[1;33m\u001b[0m\u001b[1;33m\u001b[0m\u001b[0m\n\u001b[1;32m---> 18\u001b[1;33m         \u001b[1;32mreturn\u001b[0m \u001b[0mlist\u001b[0m\u001b[1;33m(\u001b[0m\u001b[0mzip\u001b[0m\u001b[1;33m(\u001b[0m\u001b[0mword_list\u001b[0m\u001b[1;33m,\u001b[0m \u001b[0mdef_list\u001b[0m\u001b[1;33m)\u001b[0m\u001b[1;33m)\u001b[0m\u001b[1;33m\u001b[0m\u001b[1;33m\u001b[0m\u001b[0m\n\u001b[0m\u001b[0;32m     19\u001b[0m \u001b[1;33m\u001b[0m\u001b[0m\n\u001b[0;32m     20\u001b[0m \u001b[1;32mdef\u001b[0m \u001b[0mwrite_def_list\u001b[0m\u001b[1;33m(\u001b[0m\u001b[0mdef_list\u001b[0m\u001b[1;33m)\u001b[0m\u001b[1;33m:\u001b[0m\u001b[1;33m\u001b[0m\u001b[1;33m\u001b[0m\u001b[0m\n",
      "\u001b[1;31mCancelledError\u001b[0m: "
     ]
    }
   ],
   "source": [
    "def extract_definition(page):\n",
    "    defs = BeautifulSoup(page, 'html.parser').find_all('div', class_ = \"ex cf\")\n",
    "    return \"\".join([d.text for d in defs])\n",
    "\n",
    "async def read_url(session, url):\n",
    "    async with session.get(url) as resp:\n",
    "        return await resp.read()\n",
    "\n",
    "async def build_def_list(word_list, link_list):\n",
    "    def_list = []\n",
    "    tasks = []\n",
    "    async with aiohttp.ClientSession() as session:\n",
    "        for url in link_list:\n",
    "            tasks.append(asyncio.create_task(read_url(session, url)))\n",
    "        html_list = await asyncio.gather(*tasks)\n",
    "        for page in html_list:\n",
    "            def_list.append(extract_definition(page))\n",
    "        return list(zip(word_list, def_list))\n",
    "\n",
    "def write_def_list(def_list):\n",
    "    f = open(\"dict.tab\", \"a\")\n",
    "    tab = \"\\t\"\n",
    "    for d in def_list:\n",
    "        b = d[1].replace('\\n','\\\\n')\n",
    "        f.write(f\"{d[0]}{tab}{b}\\n\")\n",
    "    f.close()\n",
    "\n",
    "for i in range(1,600):\n",
    "    word_list, link_list = get_word_link_list(WORD_LIST_BASE_URL, i)\n",
    "    def_list = await build_def_list(word_list, link_list)\n",
    "    write_def_list(def_list)\n",
    "    print(f\"chunk #{i} written\")"
   ]
  },
  {
   "cell_type": "code",
   "execution_count": 111,
   "metadata": {},
   "outputs": [],
   "source": []
  },
  {
   "cell_type": "code",
   "execution_count": null,
   "metadata": {},
   "outputs": [],
   "source": []
  }
 ],
 "metadata": {
  "kernelspec": {
   "display_name": "Python 3",
   "language": "python",
   "name": "python3"
  },
  "language_info": {
   "codemirror_mode": {
    "name": "ipython",
    "version": 3
   },
   "file_extension": ".py",
   "mimetype": "text/x-python",
   "name": "python",
   "nbconvert_exporter": "python",
   "pygments_lexer": "ipython3",
   "version": "3.7.9"
  }
 },
 "nbformat": 4,
 "nbformat_minor": 4
}
